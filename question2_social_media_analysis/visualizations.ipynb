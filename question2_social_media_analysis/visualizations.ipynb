{
 "cells": [
  {
   "cell_type": "code",
   "execution_count": 1,
   "id": "e292d5bf-6af8-4365-b3b2-52f190ea69d0",
   "metadata": {},
   "outputs": [
    {
     "ename": "NameError",
     "evalue": "name 'books_df' is not defined",
     "output_type": "error",
     "traceback": [
      "\u001b[1;31m---------------------------------------------------------------------------\u001b[0m",
      "\u001b[1;31mNameError\u001b[0m                                 Traceback (most recent call last)",
      "Cell \u001b[1;32mIn[1], line 11\u001b[0m\n\u001b[0;32m      8\u001b[0m \u001b[38;5;66;03m#  Price Distribution Histograms by Category (Books)\u001b[39;00m\n\u001b[0;32m     10\u001b[0m plt\u001b[38;5;241m.\u001b[39mfigure(figsize\u001b[38;5;241m=\u001b[39m(\u001b[38;5;241m8\u001b[39m,\u001b[38;5;241m5\u001b[39m))\n\u001b[1;32m---> 11\u001b[0m sns\u001b[38;5;241m.\u001b[39mhistplot(data\u001b[38;5;241m=\u001b[39m\u001b[43mbooks_df\u001b[49m, x\u001b[38;5;241m=\u001b[39m\u001b[38;5;124m'\u001b[39m\u001b[38;5;124mprice\u001b[39m\u001b[38;5;124m'\u001b[39m, hue\u001b[38;5;241m=\u001b[39m\u001b[38;5;124m'\u001b[39m\u001b[38;5;124mcategory\u001b[39m\u001b[38;5;124m'\u001b[39m, bins\u001b[38;5;241m=\u001b[39m\u001b[38;5;241m30\u001b[39m)\n\u001b[0;32m     12\u001b[0m plt\u001b[38;5;241m.\u001b[39mtitle(\u001b[38;5;124m\"\u001b[39m\u001b[38;5;124mPrice Distribution by Category (Books)\u001b[39m\u001b[38;5;124m\"\u001b[39m)\n\u001b[0;32m     13\u001b[0m plt\u001b[38;5;241m.\u001b[39mxlabel(\u001b[38;5;124m\"\u001b[39m\u001b[38;5;124mPrice\u001b[39m\u001b[38;5;124m\"\u001b[39m)\n",
      "\u001b[1;31mNameError\u001b[0m: name 'books_df' is not defined"
     ]
    },
    {
     "data": {
      "text/plain": [
       "<Figure size 800x500 with 0 Axes>"
      ]
     },
     "metadata": {},
     "output_type": "display_data"
    }
   ],
   "source": [
    "# Data_visualization\n",
    "\n",
    "import matplotlib.pyplot as plt\n",
    "import seaborn as sns\n",
    "import plotly.express as px\n",
    "\n",
    "\n",
    "#  Price Distribution Histograms by Category (Books)\n",
    "\n",
    "plt.figure(figsize=(8,5))\n",
    "sns.histplot(data=books_df, x='price', hue='category', bins=30)\n",
    "plt.title(\"Price Distribution by Category (Books)\")\n",
    "plt.xlabel(\"Price\")\n",
    "plt.ylabel(\"Count\")\n",
    "plt.show()\n",
    "\n",
    "# Boxplot of price by category\n",
    "plt.figure(figsize=(8,5))\n",
    "sns.boxplot(data=books_df, x='category', y='price')\n",
    "plt.title(\"Price Boxplot by Category (Books)\")\n",
    "plt.xlabel(\"Category\")\n",
    "plt.ylabel(\"Price\")\n",
    "plt.xticks(rotation=45)\n",
    "plt.show()\n",
    "\n",
    "\n",
    "#  Rating vs Price Scatter Plot with Trend Line\n",
    "\n",
    "if 'rating' in books_df.columns:\n",
    "    rating_map = {\"One\":1, \"Two\":2, \"Three\":3, \"Four\":4, \"Five\":5}\n",
    "    books_df['rating_num'] = books_df['rating'].map(rating_map)\n",
    "    plt.figure(figsize=(8,6))\n",
    "    sns.scatterplot(data=books_df, x='rating_num', y='price')\n",
    "    sns.regplot(data=books_df, x='rating_num', y='price', scatter=False, color='black')\n",
    "    plt.title(\"Rating vs Price (Books)\")\n",
    "    plt.xlabel(\"Rating\")\n",
    "    plt.ylabel(\"Price\")\n",
    "    plt.show()\n",
    "\n",
    "\n",
    "#  Category Popularity Bar Chart\n",
    "\n",
    "plt.figure(figsize=(8,5))\n",
    "cat_counts = books_df['category'].value_counts()\n",
    "sns.barplot(x=cat_counts.index, y=cat_counts.values)\n",
    "plt.title(\"Category Popularity (Books)\")\n",
    "plt.xlabel(\"Category\")\n",
    "plt.ylabel(\"Number of Books\")\n",
    "plt.xticks(rotation=45)\n",
    "plt.show()\n",
    "\n",
    "# Average rating per category\n",
    "if 'rating_num' in books_df.columns:\n",
    "    avg_ratings = books_df.groupby('category')['rating_num'].mean().sort_values(ascending=False)\n",
    "    plt.figure(figsize=(8,5))\n",
    "    sns.barplot(x=avg_ratings.index, y=avg_ratings.values)\n",
    "    plt.title(\"Average Ratings per Category (Books)\")\n",
    "    plt.xlabel(\"Category\")\n",
    "    plt.ylabel(\"Average Rating\")\n",
    "    plt.xticks(rotation=45)\n",
    "    plt.show()"
   ]
  },
  {
   "cell_type": "code",
   "execution_count": null,
   "id": "c2c65738-2989-4c0d-ab8d-ec189232aaa8",
   "metadata": {},
   "outputs": [],
   "source": []
  }
 ],
 "metadata": {
  "kernelspec": {
   "display_name": "Python 3 (ipykernel)",
   "language": "python",
   "name": "python3"
  },
  "language_info": {
   "codemirror_mode": {
    "name": "ipython",
    "version": 3
   },
   "file_extension": ".py",
   "mimetype": "text/x-python",
   "name": "python",
   "nbconvert_exporter": "python",
   "pygments_lexer": "ipython3",
   "version": "3.9.20"
  }
 },
 "nbformat": 4,
 "nbformat_minor": 5
}
